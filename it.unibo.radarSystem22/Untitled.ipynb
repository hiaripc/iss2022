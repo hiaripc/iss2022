{
 "cells": [
  {
   "cell_type": "code",
   "execution_count": null,
   "id": "c4e5938f-7b6e-4530-b2b1-0b44e4304dad",
   "metadata": {},
   "outputs": [],
   "source": [
    "import socket \n",
    "\n",
    "TCP_IP = \"127.0.0.1\"\n",
    "TCP_PORT = 8010\n",
    "BUFFER_SIZE = 1024\n",
    "\n",
    "\n"
   ]
  }
 ],
 "metadata": {
  "kernelspec": {
   "display_name": "Python 3 (ipykernel)",
   "language": "python",
   "name": "python3"
  },
  "language_info": {
   "codemirror_mode": {
    "name": "ipython",
    "version": 3
   },
   "file_extension": ".py",
   "mimetype": "text/x-python",
   "name": "python",
   "nbconvert_exporter": "python",
   "pygments_lexer": "ipython3",
   "version": "3.9.7"
  }
 },
 "nbformat": 4,
 "nbformat_minor": 5
}
