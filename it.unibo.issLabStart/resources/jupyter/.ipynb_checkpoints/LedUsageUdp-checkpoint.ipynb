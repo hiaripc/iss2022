{
 "cells": [
  {
   "cell_type": "markdown",
   "metadata": {
    "slideshow": {
     "slide_type": "subslide"
    }
   },
   "source": [
    "# Led usage with UDP"
   ]
  },
  {
   "cell_type": "code",
   "execution_count": null,
   "metadata": {},
   "outputs": [
    {
     "name": "stdout",
     "output_type": "stream",
     "text": [
      "STARTING ... \n",
      "CONNECTED WITH  ('localhost', 8010)\n",
      "console  STARTS :\n",
      "on\n",
      "console  D= : on\n",
      "on\n",
      "forward  on\n",
      "off\n",
      "off\n",
      "forward  off\n",
      "on\n",
      "on\n",
      "forward  on\n",
      "off\n",
      "off\n",
      "forward  off\n"
     ]
    }
   ],
   "source": [
    "##############################################################\n",
    "# UDP-Send a msg to Led on 8010 (by Filippo Lenzi)\n",
    "# Activate RadarSysSprint3DevicesOnRaspMain\n",
    "# in       it.unibo.radarSystem22.sprint3.main.devicesOnRasp\n",
    "##############################################################\n",
    "import socket\n",
    "import time\n",
    "import argparse\n",
    "import sys\n",
    "\n",
    "sys.argv = \"LedUsageUdpLenzi.py -H localhost -P 8010 --udp\".split()\n",
    "\n",
    "parser = argparse.ArgumentParser()\n",
    "parser.add_argument(\"-H\", \"--host\", help=\"raspi host address\", default=\"localhost\", required=False)\n",
    "parser.add_argument(\"-P\", \"--port\", help=\"raspi led port\", default=8010, type=int, required=False)\n",
    "parser.add_argument(\"--udp\", help=\"use udp\", action=\"store_true\")\n",
    "args = parser.parse_args()\n",
    "\n",
    "hostAdress = args.host\n",
    "port       = args.port\n",
    "\n",
    "ledOn      = \"on\"\n",
    "ledOff     = \"off\"\n",
    "msg        = ''\n",
    "\n",
    "sock = None\n",
    "if args.udp:\n",
    "    sock = socket.socket(socket.AF_INET, socket.SOCK_DGRAM)\n",
    "else: #default: TCP\n",
    "    sock = socket.socket(socket.AF_INET, socket.SOCK_STREAM)\n",
    "\n",
    "def connect(port) :\n",
    "    server_address = (hostAdress, port)\n",
    "    sock.connect(server_address)    \n",
    "    print(\"CONNECTED WITH \", server_address)\n",
    "\n",
    "def terminate() :\n",
    "    sock.close()    #qak infrastr receives a msg null\n",
    "    print(\"BYE\")\n",
    "\n",
    "def forward( message ) :\n",
    "    print(\"forward \", message)\n",
    "    ## By AN\n",
    "    if( args.udp ) :\n",
    "        msg = message \n",
    "    else :\n",
    "        msg = message + \"\\n\"\n",
    "    sock.send(msg.encode())\n",
    "\n",
    "def console() :  \n",
    "    print(\"console  STARTS :\"   )\n",
    "    cmd =  str( input() ).strip()\n",
    "    print(\"console  D= :\" , cmd  )\n",
    "    while( cmd != \"q\"  ) :\n",
    "        msg = cmd\n",
    "        print( msg )\n",
    "        forward( msg )\n",
    "        cmd =  str(input())\n",
    "     \n",
    "##################################################\n",
    "## sys.argv = \"LedUsageUdpLenzi.py -H localhost -P 8010 --udp\".split()\n",
    "\n",
    "print(\"STARTING ... \")\n",
    "connect(port)\n",
    "console()"
   ]
  },
  {
   "cell_type": "code",
   "execution_count": null,
   "metadata": {},
   "outputs": [],
   "source": []
  }
 ],
 "metadata": {
  "kernelspec": {
   "display_name": "Python 3",
   "language": "python",
   "name": "python3"
  },
  "language_info": {
   "codemirror_mode": {
    "name": "ipython",
    "version": 3
   },
   "file_extension": ".py",
   "mimetype": "text/x-python",
   "name": "python",
   "nbconvert_exporter": "python",
   "pygments_lexer": "ipython3",
   "version": "3.8.8"
  }
 },
 "nbformat": 4,
 "nbformat_minor": 2
}
